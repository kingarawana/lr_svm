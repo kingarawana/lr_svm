{
 "cells": [
  {
   "cell_type": "code",
   "execution_count": 1,
   "metadata": {
    "collapsed": false
   },
   "outputs": [],
   "source": [
    "# Setup\n",
    "\n",
    "import sys\n",
    "import cPickle as pickle\n",
    "import numpy as np\n",
    "import time\n",
    "import matplotlib.pyplot as plt\n",
    "\n",
    "data_path = 'data/linear_svm.pkl'\n",
    "with open(data_path, 'r') as f:\n",
    "    datadict = pickle.load(f)\n",
    "    X = datadict['X']\n",
    "    y = datadict['y']\n",
    "\n",
    "W = np.random.randn(10, 3073) * 0.0001 \n",
    "\n",
    "%matplotlib inline\n",
    "plt.rcParams['figure.figsize'] = (10.0, 8.0) # set default size of plots\n",
    "plt.rcParams['image.interpolation'] = 'nearest'\n",
    "plt.rcParams['image.cmap'] = 'gray'\n",
    "\n",
    "%load_ext autoreload\n",
    "%autoreload 2"
   ]
  },
  {
   "cell_type": "code",
   "execution_count": 2,
   "metadata": {
    "collapsed": false
   },
   "outputs": [
    {
     "name": "stdout",
     "output_type": "stream",
     "text": [
      "numerical: -2.853054 analytic: -2.853054, relative error: 3.790447e-11\n",
      "numerical: 25.716845 analytic: 25.716845, relative error: 1.378890e-11\n",
      "numerical: -5.970148 analytic: -5.970148, relative error: 2.429301e-11\n",
      "numerical: -12.777061 analytic: -12.777061, relative error: 2.114052e-11\n",
      "numerical: -17.950521 analytic: -17.950521, relative error: 3.001808e-12\n",
      "numerical: 12.883341 analytic: 12.883341, relative error: 1.059829e-11\n",
      "numerical: 8.734447 analytic: 8.734447, relative error: 1.854402e-11\n",
      "numerical: 33.077325 analytic: 33.077325, relative error: 1.573932e-12\n",
      "numerical: 26.038596 analytic: 26.038596, relative error: 7.422420e-12\n",
      "numerical: 3.321418 analytic: 3.321418, relative error: 2.268755e-11\n"
     ]
    }
   ],
   "source": [
    "# Check implementation with numeric method\n",
    "\n",
    "from files.linear_svm import *\n",
    "from files.gradient_check import grad_check\n",
    "\n",
    "loss, grad = svm_loss_naive(W, X, y, 0)\n",
    "f = lambda w: svm_loss_naive(w, X, y, 0.0)[0]\n",
    "\n",
    "grad_numerical = grad_check(f, W, grad, 10)"
   ]
  },
  {
   "cell_type": "code",
   "execution_count": 8,
   "metadata": {
    "collapsed": false
   },
   "outputs": [
    {
     "name": "stdout",
     "output_type": "stream",
     "text": [
      "Naive loss: 9.281699e+00 computed in 0.017967s\n",
      "Vectorized loss: 9.281699e+00 computed in 0.001781s\n",
      "difference: 0.000000. Vectorized version is 10.088220x faster\n"
     ]
    }
   ],
   "source": [
    "# Compare naive to vectorized\n",
    "\n",
    "start = time.time()\n",
    "loss_naive, grad_naive = svm_loss_naive(W, X, y, 0.00001)\n",
    "stop = time.time()\n",
    "naive_time = stop - start\n",
    "\n",
    "print 'Naive loss: %e computed in %fs' % (loss_naive, stop - start)\n",
    "\n",
    "start = time.time()\n",
    "loss_vectorized, _ = svm_loss_vectorized(W, X, y, 0.00001)\n",
    "stop = time.time()\n",
    "vectorized_time = stop - start\n",
    "\n",
    "print 'Vectorized loss: %e computed in %fs' % (loss_vectorized, stop - start)\n",
    "\n",
    "# The loss difference should be 0, but your vectorized implementation should be much faster.\n",
    "print 'difference: %f. Vectorized version is %fx faster' % (loss_naive - loss_vectorized, naive_time/vectorized_time)"
   ]
  },
  {
   "cell_type": "code",
   "execution_count": 4,
   "metadata": {
    "collapsed": false
   },
   "outputs": [
    {
     "name": "stdout",
     "output_type": "stream",
     "text": [
      "iteration 0 / 1500: loss 22.276715\n",
      "iteration 100 / 1500: loss 5.598963\n",
      "iteration 200 / 1500: loss 2.420257\n",
      "iteration 300 / 1500: loss 1.571103\n",
      "iteration 400 / 1500: loss 1.388489\n",
      "iteration 500 / 1500: loss 1.225324\n",
      "iteration 600 / 1500: loss 1.020840\n",
      "iteration 700 / 1500: loss 1.071782\n",
      "iteration 800 / 1500: loss 1.145277\n",
      "iteration 900 / 1500: loss 1.068349\n",
      "iteration 1000 / 1500: loss 1.085741\n",
      "iteration 1100 / 1500: loss 0.994768\n",
      "iteration 1200 / 1500: loss 1.136146\n",
      "iteration 1300 / 1500: loss 0.987454\n",
      "iteration 1400 / 1500: loss 1.140376\n",
      "Training time 3.573139s\n"
     ]
    }
   ],
   "source": [
    "# Train a classifier\n",
    "\n",
    "from files.linear_classifier import LinearSVM\n",
    "svm = LinearSVM()\n",
    "start = time.time()\n",
    "loss_hist = svm.train(X, y, learning_rate=1e-7, reg=5e4, num_iters=1500)\n",
    "stop = time.time()\n",
    "print 'Training time %fs' % (stop - start)"
   ]
  },
  {
   "cell_type": "code",
   "execution_count": 5,
   "metadata": {
    "collapsed": false
   },
   "outputs": [
    {
     "data": {
      "text/plain": [
       "<matplotlib.text.Text at 0x10b7afa50>"
      ]
     },
     "execution_count": 5,
     "metadata": {},
     "output_type": "execute_result"
    },
    {
     "data": {
      "image/png": "[encoded data removed]",
      "text/plain": [
       "<matplotlib.figure.Figure at 0x1072fac50>"
      ]
     },
     "metadata": {},
     "output_type": "display_data"
    }
   ],
   "source": [
    "# Plot loss history\n",
    "\n",
    "plt.plot(loss_hist)\n",
    "plt.xlabel('Iteration number')\n",
    "plt.ylabel('Loss value')"
   ]
  },
  {
   "cell_type": "code",
   "execution_count": null,
   "metadata": {
    "collapsed": true
   },
   "outputs": [],
   "source": []
  }
 ],
 "metadata": {
  "kernelspec": {
   "display_name": "Python 2",
   "language": "python",
   "name": "python2"
  },
  "language_info": {
   "codemirror_mode": {
    "name": "ipython",
    "version": 2
   },
   "file_extension": ".py",
   "mimetype": "text/x-python",
   "name": "python",
   "nbconvert_exporter": "python",
   "pygments_lexer": "ipython2",
   "version": "2.7.11"
  }
 },
 "nbformat": 4,
 "nbformat_minor": 0
}
