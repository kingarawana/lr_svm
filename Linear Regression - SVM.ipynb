{
 "cells": [
  {
   "cell_type": "code",
   "execution_count": 1,
   "metadata": {
    "collapsed": false
   },
   "outputs": [],
   "source": [
    "# Setup\n",
    "\n",
    "import sys\n",
    "import cPickle as pickle\n",
    "import numpy as np\n",
    "import time\n",
    "import matplotlib.pyplot as plt\n",
    "\n",
    "data_path = 'data/linear_svm.pkl'\n",
    "with open(data_path, 'r') as f:\n",
    "    datadict = pickle.load(f)\n",
    "    X = datadict['X']\n",
    "    y = datadict['y']\n",
    "\n",
    "W = np.random.randn(10, 3073) * 0.0001 \n",
    "\n",
    "%matplotlib inline\n",
    "plt.rcParams['figure.figsize'] = (10.0, 8.0) # set default size of plots\n",
    "plt.rcParams['image.interpolation'] = 'nearest'\n",
    "plt.rcParams['image.cmap'] = 'gray'\n",
    "\n",
    "%load_ext autoreload\n",
    "%autoreload 2"
   ]
  },
  {
   "cell_type": "code",
   "execution_count": 2,
   "metadata": {
    "collapsed": false
   },
   "outputs": [
    {
     "name": "stdout",
     "output_type": "stream",
     "text": [
      "numerical: 39.808224 analytic: 39.808224, relative error: 5.337787e-13\n",
      "numerical: 13.928636 analytic: 13.928636, relative error: 1.542036e-11\n",
      "numerical: -14.270909 analytic: -14.270909, relative error: 6.172540e-12\n",
      "numerical: 29.238613 analytic: 29.238613, relative error: 2.923534e-12\n",
      "numerical: -14.242431 analytic: -14.242431, relative error: 9.155282e-12\n",
      "numerical: 16.008285 analytic: 16.008285, relative error: 4.019480e-12\n",
      "numerical: -8.616771 analytic: -8.616771, relative error: 1.480392e-11\n",
      "numerical: -8.466446 analytic: -8.466446, relative error: 2.085441e-11\n",
      "numerical: 17.190476 analytic: 17.190476, relative error: 4.395716e-12\n",
      "numerical: -24.807526 analytic: -24.807526, relative error: 3.308177e-13\n"
     ]
    }
   ],
   "source": [
    "# Check implementation with numeric method\n",
    "\n",
    "from files.linear_svm import *\n",
    "from files.gradient_check import grad_check\n",
    "\n",
    "loss, grad = svm_loss_naive(W, X, y, 0)\n",
    "f = lambda w: svm_loss_naive(w, X, y, 0.0)[0]\n",
    "\n",
    "grad_numerical = grad_check(f, W, grad, 10)"
   ]
  },
  {
   "cell_type": "code",
   "execution_count": 3,
   "metadata": {
    "collapsed": false
   },
   "outputs": [
    {
     "name": "stdout",
     "output_type": "stream",
     "text": [
      "Naive loss: 9.060470e+00 computed in 0.023291s\n",
      "Vectorized loss: 9.060470e+00 computed in 0.002181s\n",
      "Loss difference: -0.000000. Vectorized version is 10.680004x faster\n",
      "Gradient difference: 0.000000\n"
     ]
    }
   ],
   "source": [
    "# Compare naive to vectorized\n",
    "\n",
    "from files.linear_svm import *\n",
    "start = time.time()\n",
    "loss_naive, grad_naive = svm_loss_naive(W, X, y, 0.00001)\n",
    "stop = time.time()\n",
    "naive_time = stop - start\n",
    "\n",
    "print 'Naive loss: %e computed in %fs' % (loss_naive, stop - start)\n",
    "\n",
    "start = time.time()\n",
    "loss_vectorized, grad_vectorized = svm_loss_vectorized(W, X, y, 0.00001)\n",
    "stop = time.time()\n",
    "vectorized_time = stop - start\n",
    "\n",
    "grad_difference = np.linalg.norm(grad_naive - grad_vectorized, ord='fro')\n",
    "\n",
    "print 'Vectorized loss: %e computed in %fs' % (loss_vectorized, stop - start)\n",
    "# The loss difference should be 0, but your vectorized implementation should be much faster.\n",
    "print 'Loss difference: %f. Vectorized version is %fx faster' % (loss_naive - loss_vectorized, naive_time/vectorized_time)\n",
    "print 'Gradient difference: %f' % grad_difference"
   ]
  },
  {
   "cell_type": "code",
   "execution_count": 4,
   "metadata": {
    "collapsed": false
   },
   "outputs": [
    {
     "name": "stdout",
     "output_type": "stream",
     "text": [
      "iteration 0 / 1500: loss 790.650909\n",
      "iteration 100 / 1500: loss 285.379775\n",
      "iteration 200 / 1500: loss 105.411393\n",
      "iteration 300 / 1500: loss 39.948695\n",
      "iteration 400 / 1500: loss 15.943940\n",
      "iteration 500 / 1500: loss 7.367374\n",
      "iteration 600 / 1500: loss 4.001879\n",
      "iteration 700 / 1500: loss 2.894991\n",
      "iteration 800 / 1500: loss 2.372957\n",
      "iteration 900 / 1500: loss 2.322053\n",
      "iteration 1000 / 1500: loss 2.277841\n",
      "iteration 1100 / 1500: loss 2.331285\n",
      "iteration 1200 / 1500: loss 2.206858\n",
      "iteration 1300 / 1500: loss 2.182395\n",
      "iteration 1400 / 1500: loss 2.202493\n",
      "Training time 3.776378s\n"
     ]
    }
   ],
   "source": [
    "# Train a classifier\n",
    "\n",
    "from files.linear_classifier import LinearSVM\n",
    "svm = LinearSVM()\n",
    "start = time.time()\n",
    "loss_hist = svm.train(X, y, learning_rate=1e-7, reg=5e4, num_iters=1500)\n",
    "stop = time.time()\n",
    "print 'Training time %fs' % (stop - start)"
   ]
  },
  {
   "cell_type": "code",
   "execution_count": 5,
   "metadata": {
    "collapsed": false
   },
   "outputs": [
    {
     "data": {
      "text/plain": [
       "<matplotlib.text.Text at 0x10b6ba550>"
      ]
     },
     "execution_count": 5,
     "metadata": {},
     "output_type": "execute_result"
    },
    {
     "data": {
      "image/png": "[encoded data removed]",
      "text/plain": [
       "<matplotlib.figure.Figure at 0x107329850>"
      ]
     },
     "metadata": {},
     "output_type": "display_data"
    }
   ],
   "source": [
    "# Plot loss history\n",
    "\n",
    "plt.plot(loss_hist)\n",
    "plt.xlabel('Iteration number')\n",
    "plt.ylabel('Loss value')"
   ]
  },
  {
   "cell_type": "code",
   "execution_count": 6,
   "metadata": {
    "collapsed": false
   },
   "outputs": [
    {
     "name": "stdout",
     "output_type": "stream",
     "text": [
      "Starting training with reg: 5.000000e+04, lr: 1.000000e-06 ...\n",
      "loss was: 3.312633\n",
      "\n",
      "Starting training with reg: 5.000000e+05, lr: 1.000000e-06 ...\n",
      "loss was: 9.492545\n",
      "\n",
      "Starting training with reg: 5.000000e+04, lr: 1.000000e-07 ...\n",
      "loss was: 2.303125\n",
      "\n",
      "Starting training with reg: 5.000000e+05, lr: 1.000000e-07 ...\n",
      "loss was: 5.439347\n",
      "\n",
      "Best loss was: 2.303125, Using reg: 5.000000e+04 and lr: 1.000000e-07\n"
     ]
    },
    {
     "data": {
      "image/png": "[encoded data removed]",
      "text/plain": [
       "<matplotlib.figure.Figure at 0x1073296d0>"
      ]
     },
     "metadata": {},
     "output_type": "display_data"
    }
   ],
   "source": [
    "# This was what we implemented together today.\n",
    "# It's one possible way of finding the optimal hyperperameters.\n",
    "\n",
    "learning_rates = [1e-6, 1e-7]\n",
    "regularizations = [5e4, 5e5]\n",
    "\n",
    "best_svm = None\n",
    "best_hist = None\n",
    "best_loss = 100\n",
    "best_reg = 0.0\n",
    "best_lr = 0.0\n",
    "\n",
    "for lr in learning_rates:\n",
    "    for reg in regularizations:\n",
    "        svm = LinearSVM()\n",
    "        print \"Starting training with reg: %e, lr: %e ...\" % (reg, lr)\n",
    "        loss_hist = svm.train(X, y, learning_rate=lr, reg=reg, num_iters=1500, verbose=False)\n",
    "        \n",
    "        print \"loss was: %f\\n\" % (loss_hist[-1])\n",
    "        if(loss_hist[-1] < best_loss):\n",
    "            best_svm = svm\n",
    "            best_hist = loss_hist\n",
    "            best_loss = loss_hist[-1]\n",
    "            best_reg = reg\n",
    "            best_lr = lr\n",
    "\n",
    "plt.plot(best_hist)\n",
    "plt.xlabel('Iteration number')\n",
    "plt.ylabel('Loss value')\n",
    "print \"Best loss was: %f, Using reg: %e and lr: %e\" % (best_loss, best_reg, best_lr)"
   ]
  },
  {
   "cell_type": "code",
   "execution_count": null,
   "metadata": {
    "collapsed": true
   },
   "outputs": [],
   "source": []
  }
 ],
 "metadata": {
  "kernelspec": {
   "display_name": "Python 2",
   "language": "python",
   "name": "python2"
  },
  "language_info": {
   "codemirror_mode": {
    "name": "ipython",
    "version": 2
   },
   "file_extension": ".py",
   "mimetype": "text/x-python",
   "name": "python",
   "nbconvert_exporter": "python",
   "pygments_lexer": "ipython2",
   "version": "2.7.11"
  }
 },
 "nbformat": 4,
 "nbformat_minor": 0
}
